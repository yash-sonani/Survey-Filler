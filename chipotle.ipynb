{
 "cells": [
  {
   "cell_type": "code",
   "execution_count": 1,
   "metadata": {},
   "outputs": [],
   "source": [
    "from selenium import webdriver\n",
    "from selenium.webdriver.common.keys import Keys\n",
    "from selenium.webdriver.common.by import By\n",
    "from selenium.webdriver.support.select import Select\n",
    "import chromedriver_autoinstaller"
   ]
  },
  {
   "cell_type": "code",
   "execution_count": 2,
   "metadata": {},
   "outputs": [
    {
     "data": {
      "text/plain": [
       "'C:\\\\Users\\\\yashs\\\\AppData\\\\Local\\\\Packages\\\\PythonSoftwareFoundation.Python.3.12_qbz5n2kfra8p0\\\\LocalCache\\\\local-packages\\\\Python312\\\\site-packages\\\\chromedriver_autoinstaller\\\\125\\\\chromedriver.exe'"
      ]
     },
     "execution_count": 2,
     "metadata": {},
     "output_type": "execute_result"
    }
   ],
   "source": [
    "chromedriver_autoinstaller.install() "
   ]
  },
  {
   "cell_type": "code",
   "execution_count": 3,
   "metadata": {},
   "outputs": [],
   "source": [
    "unique_code = \"274-005-100-034-210-846-44\" # Provide Unique Code Seperated by \"-\""
   ]
  },
  {
   "cell_type": "code",
   "execution_count": 4,
   "metadata": {},
   "outputs": [],
   "source": [
    "driver = webdriver.Chrome()\n",
    "driver.get(\"https://www.chipotlefeedback.com/?AspxAutoDetectCookieSupport=1\")"
   ]
  },
  {
   "cell_type": "code",
   "execution_count": 5,
   "metadata": {},
   "outputs": [],
   "source": [
    "driver.implicitly_wait(10)\n",
    "\n",
    "option_value = driver.find_element(by=By.XPATH, value=\"/html/body/div[4]/div[3]/div[2]/div[1]/form/div/fieldset/div/div[1]/span/span\")\n",
    "option_value.click()\n",
    "\n",
    "next_button = driver.find_element(by=By.ID, value=\"NextButton\")\n",
    "next_button.click()"
   ]
  },
  {
   "cell_type": "code",
   "execution_count": 6,
   "metadata": {},
   "outputs": [],
   "source": [
    "driver.implicitly_wait(10)\n",
    "unique_code_list = unique_code.split(\"-\")\n",
    "\n",
    "for index in range(1,8):\n",
    "    input_text = driver.find_element(by=By.ID, value=f\"CN{index}\")\n",
    "    input_text.send_keys(unique_code_list[index-1])\n",
    "\n",
    "start_button = driver.find_element(by=By.ID, value=\"NextButton\")\n",
    "start_button.click()"
   ]
  },
  {
   "cell_type": "code",
   "execution_count": 14,
   "metadata": {},
   "outputs": [],
   "source": [
    "driver.implicitly_wait(10)\n",
    "\n",
    "overall_experience = driver.find_element(by=By.ID, value=\"ANS003000.4\")\n",
    "overall_experience.click()\n",
    "\n",
    "type_of_experience = driver.find_element(by=By.XPATH, value=\"//*[@id='FNSR000005']/div/div/div[2]\")\n",
    "type_of_experience.click()\n",
    "\n",
    "what_order = driver.find_element(by=By.XPATH, value=\"//*[@id='FNSR000131']\")\n",
    "what_order.click()\n",
    "\n",
    "next_button = driver.find_element(by=By.XPATH, value=\"/html/body/div[2]/div[3]/div[2]/div[3]/div/form/div/div[3]/input\")\n",
    "next_button.click()\n",
    "\n",
    "recommanded_next_30_days =driver.find_element(by=By.ID, value=\"ANS000062.4\")\n",
    "recommanded_next_30_days.click()\n",
    "\n",
    "returned_next_30_days =driver.find_element(by=By.ID, value=\"ANS000061.5\")\n",
    "returned_next_30_days.click()\n",
    "\n",
    "quite_right = driver.find_element(by=By.XPATH, value=\"//*[@id='FNSR000214']\")\n",
    "quite_right.click()\n",
    "\n",
    "next_button = driver.find_element(by=By.XPATH, value=\"/html/body/div[2]/div[3]/div[2]/div[6]/div/form/div/div[3]/input\")\n",
    "next_button.click()\n",
    "\n",
    "other_details = driver.find_element(by=By.ID, value=\"S000098\")\n",
    "other_details.send_keys(\"Everything is Good.\")\n",
    "\n",
    "next_button = driver.find_element(by=By.XPATH, value=\"/html/body/div[2]/div[3]/div[2]/div[7]/div/form/div/div[4]/input\")\n",
    "next_button.click()\n",
    "\n"
   ]
  }
 ],
 "metadata": {
  "kernelspec": {
   "display_name": "Python 3",
   "language": "python",
   "name": "python3"
  },
  "language_info": {
   "codemirror_mode": {
    "name": "ipython",
    "version": 3
   },
   "file_extension": ".py",
   "mimetype": "text/x-python",
   "name": "python",
   "nbconvert_exporter": "python",
   "pygments_lexer": "ipython3",
   "version": "3.12.3"
  }
 },
 "nbformat": 4,
 "nbformat_minor": 2
}
